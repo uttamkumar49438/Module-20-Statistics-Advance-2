{
  "nbformat": 4,
  "nbformat_minor": 0,
  "metadata": {
    "colab": {
      "provenance": []
    },
    "kernelspec": {
      "name": "python3",
      "display_name": "Python 3"
    },
    "language_info": {
      "name": "python"
    }
  },
  "cells": [
    {
      "cell_type": "markdown",
      "source": [
        "Q1: What are the Probability Mass Function (PMF) and Probability Density Function (PDF)? Explain with\n",
        "an example."
      ],
      "metadata": {
        "id": "9vTpylLrDjh8"
      }
    },
    {
      "cell_type": "markdown",
      "source": [
        "Probability Mass Function (PMF) and Probability Density Function (PDF) are mathematical functions used in probability theory and statistics to describe the probability distribution of a discrete and continuous random variable"
      ],
      "metadata": {
        "id": "Jbqttx6zDkee"
      }
    },
    {
      "cell_type": "markdown",
      "source": [
        "Q2: What is Cumulative Density Function (CDF)? Explain with an example. Why CDF is used?"
      ],
      "metadata": {
        "id": "tiSQGBxIDx2k"
      }
    },
    {
      "cell_type": "markdown",
      "source": [
        "The Cumulative Distribution Function (CDF) is a function that gives the probability that a random variable takes on a value less than or equal to a given value. In other words, it represents the cumulative probability distribution of a random variable"
      ],
      "metadata": {
        "id": "6xFmX99PDzs3"
      }
    },
    {
      "cell_type": "markdown",
      "source": [
        "Q3: What are some examples of situations where the normal distribution might be used as a model?\n",
        "Explain how the parameters of the normal distribution relate to the shape of the distribution."
      ],
      "metadata": {
        "id": "X8TNKNx0D94p"
      }
    },
    {
      "cell_type": "markdown",
      "source": [
        "normal distribution, also known as the Gaussian distribution, is one of the most widely used probability distributions in various fields due to its mathematical tractability and its prevalence in natural phenomena."
      ],
      "metadata": {
        "id": "CoPQH5vdEEF8"
      }
    },
    {
      "cell_type": "markdown",
      "source": [
        "Q4: Explain the importance of Normal Distribution. Give a few real-life examples of Normal\n",
        "Distribution."
      ],
      "metadata": {
        "id": "uKSfNFsZELrE"
      }
    },
    {
      "cell_type": "markdown",
      "source": [
        "The normal distribution, also known as the Gaussian distribution, holds immense importance in various fields due to its mathematical properties and its prevalence in natural phenomena. Here are some reasons why the normal distribution is important:\n",
        "\n"
      ],
      "metadata": {
        "id": "-3CyH2bnERgQ"
      }
    },
    {
      "cell_type": "markdown",
      "source": [
        "Q5: What is Bernaulli Distribution? Give an Example. What is the difference between Bernoulli\n",
        "Distribution and Binomial Distribution?"
      ],
      "metadata": {
        "id": "Rfz4PiwxEZYa"
      }
    },
    {
      "cell_type": "markdown",
      "source": [
        "The Bernoulli distribution is a discrete probability distribution that models a random experiment with only two possible outcomes: success and failure. It is named after the Swiss mathematician Jacob Bernoulli. The distribution is characterized by a single parameter,\n",
        "�\n",
        "p, which represents the probability of success in a single trial, while the probability of failure is\n",
        "1\n",
        "−\n",
        "�\n",
        "1−p.\n",
        "\n",
        "Example: Consider a single coin flip, where success (1) represents getting heads"
      ],
      "metadata": {
        "id": "00lcesXFEd0w"
      }
    },
    {
      "cell_type": "markdown",
      "source": [
        "Q6. Consider a dataset with a mean of 50 and a standard deviation of 10. If we assume that the dataset\n",
        "is normally distributed, what is the probability that a randomly selected observation will be greater\n",
        "than 60? Use the appropriate formula and show your calculations."
      ],
      "metadata": {
        "id": "h-QpU5cKEjN-"
      }
    },
    {
      "cell_type": "markdown",
      "source": [
        "To calculate the probability that a randomly selected observation from a normally distributed dataset with a mean of 50 and a standard deviation of 10 will be greater than 60, we can use the z-score formula and the standard normal distribution table."
      ],
      "metadata": {
        "id": "NJEMbOi1Epoz"
      }
    },
    {
      "cell_type": "markdown",
      "source": [
        "Q7: Explain uniform Distribution with an example.\n",
        "\n",
        "\n"
      ],
      "metadata": {
        "id": "TBRIHKBzEvTC"
      }
    },
    {
      "cell_type": "markdown",
      "source": [
        "The uniform distribution is a probability distribution where all outcomes are equally likely. In other words, every value within a given interval has the same probability of occurring."
      ],
      "metadata": {
        "id": "DtPZbgxdE8N-"
      }
    },
    {
      "cell_type": "markdown",
      "source": [
        "Q8: What is the z score? State the importance of the z score."
      ],
      "metadata": {
        "id": "Weo4HBxAFB8q"
      }
    },
    {
      "cell_type": "markdown",
      "source": [
        "The z-score, also known as the standard score, is a statistical measure that indicates how many standard deviations a data point is from the mean of the dataset. It's calculated by subtracting the mean of the dataset from the individual data point and then dividing by the standard deviation of the dataset."
      ],
      "metadata": {
        "id": "ktXicBdbFG7p"
      }
    },
    {
      "cell_type": "markdown",
      "source": [
        "Q9: What is Central Limit Theorem? State the significance of the Central Limit Theorem."
      ],
      "metadata": {
        "id": "iu3ezqsMFM9u"
      }
    },
    {
      "cell_type": "markdown",
      "source": [
        "The Central Limit Theorem (CLT) is a fundamental concept in statistics that states that the sampling distribution of the sample mean approaches a normal distribution as the sample size increases, regardless of the shape of the population distribution. In other words, if you take repeated random samples from a population and calculate the mean of each sample, the distribution of those sample means will tend to follow a normal distribution, even if the original population distribution is not normal."
      ],
      "metadata": {
        "id": "pgSDzIMtFR6G"
      }
    },
    {
      "cell_type": "markdown",
      "source": [
        "Q10: State the assumptions of the Central Limit Theorem."
      ],
      "metadata": {
        "id": "N-Jlj9Y-FVjs"
      }
    },
    {
      "cell_type": "markdown",
      "source": [
        " assumptions ensure that the sampling distribution of the sample mean converges to a normal distribution as the sample size increases, allowing for reliable statistical inference and hypothesis testing. It's important to verify these assumptions when applying the CLT in practice to ensure the validity of the results."
      ],
      "metadata": {
        "id": "FPDe4DcTFZ_b"
      }
    }
  ]
}